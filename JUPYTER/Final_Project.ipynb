{
  "cells": [
    {
      "cell_type": "markdown",
      "metadata": {
        "id": "CPs7WPSFRJG0"
      },
      "source": [
        "## Import"
      ]
    },
    {
      "cell_type": "code",
      "execution_count": null,
      "metadata": {
        "id": "u-NErIhGPyOV"
      },
      "outputs": [],
      "source": [
        "# Main imports\n",
        "import pandas as pd           # For data manipulation and reading tabular files\n",
        "import networkx as nx         # For building and analyzing graphs\n",
        "import matplotlib.pyplot as plt  # For plotting graphs\n",
        "import numpy as np            # For numerical operations\n",
        "\n",
        "# Optional configurations\n",
        "%matplotlib inline\n",
        "plt.style.use(\"ggplot\")       # Sets the plot style to 'ggplot' for better aesthetics"
      ]
    },
    {
      "cell_type": "markdown",
      "metadata": {
        "id": "GPIR5s8DRMyt"
      },
      "source": [
        "## Data Ingestion"
      ]
    },
    {
      "cell_type": "code",
      "execution_count": null,
      "metadata": {
        "id": "LUtsXk5OP3sA"
      },
      "outputs": [
        {
          "name": "stdout",
          "output_type": "stream",
          "text": [
            "Nodes:\n"
          ]
        },
        {
          "data": {
            "text/html": [
              "<div>\n",
              "<style scoped>\n",
              "    .dataframe tbody tr th:only-of-type {\n",
              "        vertical-align: middle;\n",
              "    }\n",
              "\n",
              "    .dataframe tbody tr th {\n",
              "        vertical-align: top;\n",
              "    }\n",
              "\n",
              "    .dataframe thead th {\n",
              "        text-align: right;\n",
              "    }\n",
              "</style>\n",
              "<table border=\"1\" class=\"dataframe\">\n",
              "  <thead>\n",
              "    <tr style=\"text-align: right;\">\n",
              "      <th></th>\n",
              "      <th>NodeId</th>\n",
              "      <th>Chain</th>\n",
              "      <th>Position</th>\n",
              "      <th>Residue</th>\n",
              "      <th>Type</th>\n",
              "      <th>Dp</th>\n",
              "      <th>Degree</th>\n",
              "      <th>factor_CA</th>\n",
              "      <th>x</th>\n",
              "      <th>y</th>\n",
              "      <th>z</th>\n",
              "      <th>FileName</th>\n",
              "      <th>Model</th>\n",
              "    </tr>\n",
              "  </thead>\n",
              "  <tbody>\n",
              "    <tr>\n",
              "      <th>0</th>\n",
              "      <td>A:1:_:V</td>\n",
              "      <td>A</td>\n",
              "      <td>1</td>\n",
              "      <td>V</td>\n",
              "      <td>RES</td>\n",
              "      <td></td>\n",
              "      <td>1</td>\n",
              "      <td>33.95</td>\n",
              "      <td>29.327</td>\n",
              "      <td>7.238</td>\n",
              "      <td>10.067</td>\n",
              "      <td>source_file</td>\n",
              "      <td>1</td>\n",
              "    </tr>\n",
              "    <tr>\n",
              "      <th>1</th>\n",
              "      <td>A:2:_:H</td>\n",
              "      <td>A</td>\n",
              "      <td>2</td>\n",
              "      <td>H</td>\n",
              "      <td>RES</td>\n",
              "      <td></td>\n",
              "      <td>2</td>\n",
              "      <td>42.00</td>\n",
              "      <td>31.580</td>\n",
              "      <td>6.093</td>\n",
              "      <td>7.224</td>\n",
              "      <td>source_file</td>\n",
              "      <td>1</td>\n",
              "    </tr>\n",
              "    <tr>\n",
              "      <th>2</th>\n",
              "      <td>A:3:_:L</td>\n",
              "      <td>A</td>\n",
              "      <td>3</td>\n",
              "      <td>L</td>\n",
              "      <td>RES</td>\n",
              "      <td></td>\n",
              "      <td>0</td>\n",
              "      <td>37.65</td>\n",
              "      <td>31.355</td>\n",
              "      <td>7.827</td>\n",
              "      <td>3.837</td>\n",
              "      <td>source_file</td>\n",
              "      <td>1</td>\n",
              "    </tr>\n",
              "    <tr>\n",
              "      <th>3</th>\n",
              "      <td>A:4:_:T</td>\n",
              "      <td>A</td>\n",
              "      <td>4</td>\n",
              "      <td>T</td>\n",
              "      <td>RES</td>\n",
              "      <td></td>\n",
              "      <td>4</td>\n",
              "      <td>51.65</td>\n",
              "      <td>33.572</td>\n",
              "      <td>7.162</td>\n",
              "      <td>0.748</td>\n",
              "      <td>source_file</td>\n",
              "      <td>1</td>\n",
              "    </tr>\n",
              "    <tr>\n",
              "      <th>4</th>\n",
              "      <td>A:5:_:P</td>\n",
              "      <td>A</td>\n",
              "      <td>5</td>\n",
              "      <td>P</td>\n",
              "      <td>RES</td>\n",
              "      <td>H</td>\n",
              "      <td>1</td>\n",
              "      <td>55.92</td>\n",
              "      <td>35.236</td>\n",
              "      <td>9.897</td>\n",
              "      <td>-1.408</td>\n",
              "      <td>source_file</td>\n",
              "      <td>1</td>\n",
              "    </tr>\n",
              "  </tbody>\n",
              "</table>\n",
              "</div>"
            ],
            "text/plain": [
              "    NodeId Chain  Position Residue Type Dp  Degree  factor_CA       x      y  \\\n",
              "0  A:1:_:V     A         1       V  RES          1      33.95  29.327  7.238   \n",
              "1  A:2:_:H     A         2       H  RES          2      42.00  31.580  6.093   \n",
              "2  A:3:_:L     A         3       L  RES          0      37.65  31.355  7.827   \n",
              "3  A:4:_:T     A         4       T  RES          4      51.65  33.572  7.162   \n",
              "4  A:5:_:P     A         5       P  RES  H       1      55.92  35.236  9.897   \n",
              "\n",
              "        z     FileName  Model  \n",
              "0  10.067  source_file      1  \n",
              "1   7.224  source_file      1  \n",
              "2   3.837  source_file      1  \n",
              "3   0.748  source_file      1  \n",
              "4  -1.408  source_file      1  "
            ]
          },
          "metadata": {},
          "output_type": "display_data"
        },
        {
          "name": "stdout",
          "output_type": "stream",
          "text": [
            "Edges:\n"
          ]
        },
        {
          "data": {
            "text/html": [
              "<div>\n",
              "<style scoped>\n",
              "    .dataframe tbody tr th:only-of-type {\n",
              "        vertical-align: middle;\n",
              "    }\n",
              "\n",
              "    .dataframe tbody tr th {\n",
              "        vertical-align: top;\n",
              "    }\n",
              "\n",
              "    .dataframe thead th {\n",
              "        text-align: right;\n",
              "    }\n",
              "</style>\n",
              "<table border=\"1\" class=\"dataframe\">\n",
              "  <thead>\n",
              "    <tr style=\"text-align: right;\">\n",
              "      <th></th>\n",
              "      <th>NodeId1</th>\n",
              "      <th>Interaction</th>\n",
              "      <th>NodeId2</th>\n",
              "      <th>Distance</th>\n",
              "      <th>Angle</th>\n",
              "      <th>Node1</th>\n",
              "      <th>Node2</th>\n",
              "      <th>Donor</th>\n",
              "      <th>Positive</th>\n",
              "      <th>Ct</th>\n",
              "      <th>Orientation</th>\n",
              "      <th>Model</th>\n",
              "    </tr>\n",
              "  </thead>\n",
              "  <tbody>\n",
              "    <tr>\n",
              "      <th>0</th>\n",
              "      <td>A:1:_:V</td>\n",
              "      <td>V:SC_SC</td>\n",
              "      <td>A:81:_:L</td>\n",
              "      <td>2.897</td>\n",
              "      <td>NaN</td>\n",
              "      <td>CG2</td>\n",
              "      <td>HD11</td>\n",
              "      <td>NaN</td>\n",
              "      <td>NaN</td>\n",
              "      <td>NaN</td>\n",
              "      <td>NaN</td>\n",
              "      <td>1</td>\n",
              "    </tr>\n",
              "    <tr>\n",
              "      <th>1</th>\n",
              "      <td>A:2:_:H</td>\n",
              "      <td>H:MC_MC</td>\n",
              "      <td>B:146:_:H</td>\n",
              "      <td>3.247</td>\n",
              "      <td>161.843</td>\n",
              "      <td>N</td>\n",
              "      <td>O</td>\n",
              "      <td>A:2:_:H</td>\n",
              "      <td>NaN</td>\n",
              "      <td>NaN</td>\n",
              "      <td>NaN</td>\n",
              "      <td>1</td>\n",
              "    </tr>\n",
              "    <tr>\n",
              "      <th>2</th>\n",
              "      <td>A:2:_:H</td>\n",
              "      <td>V:SC_SC</td>\n",
              "      <td>B:146:_:H</td>\n",
              "      <td>2.377</td>\n",
              "      <td>NaN</td>\n",
              "      <td>H</td>\n",
              "      <td>HXT</td>\n",
              "      <td>NaN</td>\n",
              "      <td>NaN</td>\n",
              "      <td>NaN</td>\n",
              "      <td>NaN</td>\n",
              "      <td>1</td>\n",
              "    </tr>\n",
              "    <tr>\n",
              "      <th>3</th>\n",
              "      <td>A:4:_:T</td>\n",
              "      <td>H:SC_SC</td>\n",
              "      <td>A:7:_:E</td>\n",
              "      <td>2.490</td>\n",
              "      <td>138.501</td>\n",
              "      <td>OG1</td>\n",
              "      <td>OE1</td>\n",
              "      <td>A:4:_:T</td>\n",
              "      <td>NaN</td>\n",
              "      <td>NaN</td>\n",
              "      <td>NaN</td>\n",
              "      <td>1</td>\n",
              "    </tr>\n",
              "    <tr>\n",
              "      <th>4</th>\n",
              "      <td>A:4:_:T</td>\n",
              "      <td>H:MC_SC</td>\n",
              "      <td>A:7:_:E</td>\n",
              "      <td>2.556</td>\n",
              "      <td>168.517</td>\n",
              "      <td>N</td>\n",
              "      <td>OE1</td>\n",
              "      <td>A:4:_:T</td>\n",
              "      <td>NaN</td>\n",
              "      <td>NaN</td>\n",
              "      <td>NaN</td>\n",
              "      <td>1</td>\n",
              "    </tr>\n",
              "  </tbody>\n",
              "</table>\n",
              "</div>"
            ],
            "text/plain": [
              "   NodeId1 Interaction    NodeId2  Distance    Angle Node1 Node2    Donor  \\\n",
              "0  A:1:_:V     V:SC_SC   A:81:_:L     2.897      NaN   CG2  HD11      NaN   \n",
              "1  A:2:_:H     H:MC_MC  B:146:_:H     3.247  161.843     N     O  A:2:_:H   \n",
              "2  A:2:_:H     V:SC_SC  B:146:_:H     2.377      NaN     H   HXT      NaN   \n",
              "3  A:4:_:T     H:SC_SC    A:7:_:E     2.490  138.501   OG1   OE1  A:4:_:T   \n",
              "4  A:4:_:T     H:MC_SC    A:7:_:E     2.556  168.517     N   OE1  A:4:_:T   \n",
              "\n",
              "  Positive   Ct Orientation  Model  \n",
              "0      NaN  NaN         NaN      1  \n",
              "1      NaN  NaN         NaN      1  \n",
              "2      NaN  NaN         NaN      1  \n",
              "3      NaN  NaN         NaN      1  \n",
              "4      NaN  NaN         NaN      1  "
            ]
          },
          "metadata": {},
          "output_type": "display_data"
        }
      ],
      "source": [
        "# Paths to the input files\n",
        "nodes_file = \"GraphTest_nodes.txt\"\n",
        "edges_file = \"GraphTest_edges.txt\"\n",
        "\n",
        "# Load data into DataFrames\n",
        "df_nodes = pd.read_csv(nodes_file, sep=\"\\t\")  # Reads the node table using tab as separator\n",
        "df_edges = pd.read_csv(edges_file, sep=\"\\t\")  # Reads the edge table using tab as separator\n",
        "\n",
        "# Preview the node data\n",
        "print(\"Nodes:\")\n",
        "display(df_nodes.head())  # Shows the first few rows of the node DataFrame\n",
        "\n",
        "# Preview the edge data\n",
        "print(\"Edges:\")\n",
        "display(df_edges.head())  # Shows the first few rows of the edge DataFrame"
      ]
    },
    {
      "cell_type": "markdown",
      "metadata": {
        "id": "RynO1pcwRrUF"
      },
      "source": [
        "## Network Generation"
      ]
    },
    {
      "cell_type": "code",
      "execution_count": 5,
      "metadata": {
        "id": "5txpdrTdQFll"
      },
      "outputs": [
        {
          "name": "stdout",
          "output_type": "stream",
          "text": [
            "Graph created with 588 nodes.\n"
          ]
        }
      ],
      "source": [
        "# Initialize as a MultiDiGraph to support multiple directed edges between the same pair of nodes\n",
        "# G = nx.MultiDiGraph()\n",
        "\n",
        "# Use MultiGraph() instead of MultiDiGraph() if directionality is not important.\n",
        "# This allows multiple undirected edges between the same node pairs, useful for modeling\n",
        "# symmetric or bidirectional interactions like Van der Waals forces.\n",
        "G = nx.MultiGraph()\n",
        "\n",
        "# Add all nodes with their attributes\n",
        "for _, row in df_nodes.iterrows():\n",
        "    node_id = row[\"NodeId\"]                      # Extract the node identifier\n",
        "    attributes = row.drop(\"NodeId\").to_dict()    # Convert the remaining columns to a dictionary of attributes\n",
        "    G.add_node(node_id, **attributes)            # Add the node and its attributes to the graph\n",
        "\n",
        "print(f\"Graph created with {G.number_of_nodes()} nodes.\")"
      ]
    },
    {
      "cell_type": "code",
      "execution_count": 6,
      "metadata": {
        "id": "qVvGaAJLQLx-"
      },
      "outputs": [
        {
          "data": {
            "text/plain": [
              "{'Chain': 'A',\n",
              " 'Position': 1,\n",
              " 'Residue': 'V',\n",
              " 'Type': 'RES',\n",
              " 'Dp': ' ',\n",
              " 'Degree': 1,\n",
              " 'factor_CA': 33.95,\n",
              " 'x': 29.327,\n",
              " 'y': 7.238,\n",
              " 'z': 10.067,\n",
              " 'FileName': 'source_file',\n",
              " 'Model': 1}"
            ]
          },
          "execution_count": 6,
          "metadata": {},
          "output_type": "execute_result"
        }
      ],
      "source": [
        "# Accessing the attributes of a specific node in the graph\n",
        "# Each node represents an abstract element with several associated properties.\n",
        "# These attributes may include:\n",
        "# - Position: the element's index or sequence number\n",
        "# - Type: classification or category of the element\n",
        "# - Degree: number of connections this node has in the graph\n",
        "# - Numerical values (e.g., factor_CA): possibly representing some measurement or score\n",
        "# - Coordinates (x, y, z): spatial or geometric positioning\n",
        "# - Metadata: such as source file name or model identifier\n",
        "\n",
        "G.nodes[\"A:1:_:V\"]"
      ]
    },
    {
      "cell_type": "code",
      "execution_count": 7,
      "metadata": {
        "id": "xefy6rHvQQx8"
      },
      "outputs": [
        {
          "name": "stdout",
          "output_type": "stream",
          "text": [
            "Graph created with 1184 edges (multiple interactions per node pair allowed).\n"
          ]
        }
      ],
      "source": [
        "# Adds all columns as edge attributes, allowing multiple edges between the same pair of nodes\n",
        "for _, row in df_edges.iterrows():\n",
        "    source = row[\"NodeId1\"]                  # Source node identifier\n",
        "    target = row[\"NodeId2\"]                  # Target node identifier\n",
        "    attributes = row.drop([\"NodeId1\", \"NodeId2\"]).to_dict()  # All remaining columns become edge attributes\n",
        "\n",
        "    # Safe conversion of numeric values (e.g., distance, angle, etc.)\n",
        "    for key in attributes:\n",
        "        val = attributes[key]\n",
        "        if pd.isna(val) or val == \"nan\":     # Handle missing or non-numeric values\n",
        "            attributes[key] = None\n",
        "        else:\n",
        "            try:\n",
        "                attributes[key] = float(val)  # Convert strings to float when possible\n",
        "            except (ValueError, TypeError):\n",
        "                pass  # Leave as string if conversion fails\n",
        "\n",
        "    # Add the edge with its full set of attributes\n",
        "    # Since we are using MultiDiGraph, multiple edges between the same nodes are allowed and preserved\n",
        "    G.add_edge(source, target, **attributes)\n",
        "\n",
        "print(f\"Graph created with {G.number_of_edges()} edges (multiple interactions per node pair allowed).\")"
      ]
    },
    {
      "cell_type": "code",
      "execution_count": 8,
      "metadata": {
        "id": "8aLq5IlpQUBU"
      },
      "outputs": [
        {
          "data": {
            "text/plain": [
              "{'Interaction': 'V:SC_SC',\n",
              " 'Distance': 2.897,\n",
              " 'Angle': None,\n",
              " 'Node1': 'CG2',\n",
              " 'Node2': 'HD11',\n",
              " 'Donor': None,\n",
              " 'Positive': None,\n",
              " 'Ct': None,\n",
              " 'Orientation': None,\n",
              " 'Model': 1.0}"
            ]
          },
          "execution_count": 8,
          "metadata": {},
          "output_type": "execute_result"
        }
      ],
      "source": [
        "# Accessing the attributes of a specific edge in a MultiDiGraph\n",
        "# Since multiple edges are allowed between the same pair of nodes, we use a 3-element key:\n",
        "# (source_node, target_node, edge_index)\n",
        "# This retrieves the edge with index 0 between nodes \"A:1:_:V\" and \"A:81:_:L\"\n",
        "\n",
        "G.edges[('A:1:_:V', 'A:81:_:L', 0)]\n",
        "\n",
        "# The returned dictionary contains all the metadata associated with this specific interaction:\n",
        "# - Interaction: a label describing the type of interaction or connection\n",
        "# - Distance: a numeric value that may represent spatial proximity or intensity\n",
        "# - Angle: geometric property, if applicable\n",
        "# - Node1 / Node2: identifiers for specific components involved in the interaction\n",
        "# - Donor, Positive, Ct, Orientation: optional descriptors that may or may not be filled\n",
        "# - Model: model or version identifier, useful in some datasets"
      ]
    },
    {
      "cell_type": "markdown",
      "metadata": {
        "id": "--cSqIRfS8LA"
      },
      "source": [
        "### Summarization"
      ]
    },
    {
      "cell_type": "markdown",
      "metadata": {
        "id": "nfjaUyObS5g9"
      },
      "source": [
        "\n",
        "- How multiple connections between two nodes are represented;\n",
        "- How to navigate and inspect the metadata of each individual interaction;\n",
        "- The difference between a standard graph and a directed multiedge graph (MultiDiGraph).\n"
      ]
    },
    {
      "cell_type": "code",
      "execution_count": 9,
      "metadata": {
        "id": "VEdrZmMAQWb-"
      },
      "outputs": [
        {
          "name": "stdout",
          "output_type": "stream",
          "text": [
            "Edge 0:\n",
            "  Interaction: H:SC_SC\n",
            "  Distance: 2.49\n",
            "  Angle: 138.501\n",
            "  Node1: OG1\n",
            "  Node2: OE1\n",
            "  Donor: A:4:_:T\n",
            "  Positive: None\n",
            "  Ct: None\n",
            "  Orientation: None\n",
            "  Model: 1.0\n",
            "\n",
            "Edge 1:\n",
            "  Interaction: H:MC_SC\n",
            "  Distance: 2.556\n",
            "  Angle: 168.517\n",
            "  Node1: N\n",
            "  Node2: OE1\n",
            "  Donor: A:4:_:T\n",
            "  Positive: None\n",
            "  Ct: None\n",
            "  Orientation: None\n",
            "  Model: 1.0\n",
            "\n",
            "Edge 2:\n",
            "  Interaction: V:SC_SC\n",
            "  Distance: 2.729\n",
            "  Angle: None\n",
            "  Node1: OG1\n",
            "  Node2: HG3\n",
            "  Donor: None\n",
            "  Positive: None\n",
            "  Ct: None\n",
            "  Orientation: None\n",
            "  Model: 1.0\n",
            "\n"
          ]
        }
      ],
      "source": [
        "# Example: list all edges from node A:4:_:T to node A:7:_:E\n",
        "source = \"A:4:_:T\"\n",
        "target = \"A:7:_:E\"\n",
        "\n",
        "# Retrieves a dictionary containing all edges between the two nodes,\n",
        "# where each entry is indexed by a unique edge key (usually an integer starting from 0)\n",
        "multi_edges = G.get_edge_data(source, target)\n",
        "\n",
        "# Print all individual interactions (edges) between these two nodes\n",
        "for key, attrs in multi_edges.items():\n",
        "    print(f\"Edge {key}:\")  # Each key represents a unique edge ID between the same source and target\n",
        "    for attr, value in attrs.items():\n",
        "        print(f\"  {attr}: {value}\")  # Print each attribute of the edge\n",
        "    print()"
      ]
    },
    {
      "cell_type": "markdown",
      "metadata": {
        "id": "vNrdtSqPTGl7"
      },
      "source": [
        "## Export the Network"
      ]
    },
    {
      "cell_type": "code",
      "execution_count": 10,
      "metadata": {
        "id": "BPO0iiinQbho"
      },
      "outputs": [
        {
          "name": "stdout",
          "output_type": "stream",
          "text": [
            "Export completed successfully.\n"
          ]
        }
      ],
      "source": [
        "def sanitize_attributes(G):\n",
        "    # Fix node attributes: replace None or NaN values with empty strings\n",
        "    for node, attrs in G.nodes(data=True):\n",
        "        for k, v in attrs.items():\n",
        "            if v is None or (isinstance(v, float) and pd.isna(v)):\n",
        "                G.nodes[node][k] = \"\"\n",
        "\n",
        "    # Fix edge attributes: replace None or NaN values with empty strings\n",
        "    for u, v, key, attrs in G.edges(keys=True, data=True):\n",
        "        for k, v_attr in attrs.items():\n",
        "            if v_attr is None or (isinstance(v_attr, float) and pd.isna(v_attr)):\n",
        "                G.edges[u, v, key][k] = \"\"\n",
        "\n",
        "# Apply attribute sanitization to make the graph exportable to GEXF format\n",
        "sanitize_attributes(G)\n",
        "\n",
        "# Export the graph to a GEXF file, which can be opened in Gephi or reloaded in Python\n",
        "nx.write_gexf(G, \"final_netwokr.gexf\")\n",
        "print(\"Export completed successfully.\")"
      ]
    },
    {
      "cell_type": "markdown",
      "metadata": {
        "id": "HDf-bbGbVIDr"
      },
      "source": [
        "## Data Visualization"
      ]
    },
    {
      "cell_type": "code",
      "execution_count": 11,
      "metadata": {
        "id": "yQ9DzIaWQebb"
      },
      "outputs": [
        {
          "data": {
            "image/png": "[encoded data removed]",
            "text/plain": [
              "<Figure size 1200x1000 with 1 Axes>"
            ]
          },
          "metadata": {},
          "output_type": "display_data"
        }
      ],
      "source": [
        "# Generate a layout for positioning the nodes using a force-directed algorithm\n",
        "# 'seed' ensures the layout is reproducible\n",
        "pos = nx.spring_layout(G, seed=42)\n",
        "\n",
        "# Set up the figure size\n",
        "plt.figure(figsize=(12, 10))\n",
        "\n",
        "# Draw the graph nodes with small size and light color\n",
        "nx.draw_networkx_nodes(G, pos, node_size=10, node_color='skyblue', alpha=0.7)\n",
        "\n",
        "# Draw the edges with some transparency\n",
        "nx.draw_networkx_edges(G, pos, alpha=0.3)\n",
        "\n",
        "# Set the plot title and remove axes\n",
        "plt.title(\"Graph\")\n",
        "plt.axis('off')\n",
        "\n",
        "# Display the final visualization\n",
        "plt.show()"
      ]
    }
  ],
  "metadata": {
    "colab": {
      "provenance": [],
      "toc_visible": true
    },
    "kernelspec": {
      "display_name": "Python 3",
      "name": "python3"
    },
    "language_info": {
      "codemirror_mode": {
        "name": "ipython",
        "version": 3
      },
      "file_extension": ".py",
      "mimetype": "text/x-python",
      "name": "python",
      "nbconvert_exporter": "python",
      "pygments_lexer": "ipython3",
      "version": "3.12.6"
    }
  },
  "nbformat": 4,
  "nbformat_minor": 0
}
