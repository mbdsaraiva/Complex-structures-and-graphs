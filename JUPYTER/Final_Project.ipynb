{
  "cells": [
    {
      "cell_type": "markdown",
      "metadata": {
        "id": "CPs7WPSFRJG0"
      },
      "source": [
        "## Import"
      ]
    },
    {
      "cell_type": "code",
      "execution_count": 1,
      "metadata": {
        "id": "u-NErIhGPyOV"
      },
      "outputs": [],
      "source": [
        "# Main imports\n",
        "import pandas as pd           # For data manipulation and reading tabular files\n",
        "import networkx as nx         # For building and analyzing graphs\n",
        "import matplotlib.pyplot as plt  # For plotting graphs\n",
        "import numpy as np            # For numerical operations\n",
        "\n",
        "# Optional configurations\n",
        "%matplotlib inline\n",
        "plt.style.use(\"ggplot\")       # Sets the plot style to 'ggplot' for better aesthetics"
      ]
    },
    {
      "cell_type": "markdown",
      "metadata": {
        "id": "GPIR5s8DRMyt"
      },
      "source": [
        "## Data Ingestion"
      ]
    },
    {
      "cell_type": "code",
      "execution_count": null,
      "metadata": {
        "id": "LUtsXk5OP3sA"
      },
      "outputs": [
        {
          "ename": "FileNotFoundError",
          "evalue": "[Errno 2] No such file or directory: 'GraphTest_nodes.txt'",
          "output_type": "error",
          "traceback": [
            "\u001b[31m---------------------------------------------------------------------------\u001b[39m",
            "\u001b[31mFileNotFoundError\u001b[39m                         Traceback (most recent call last)",
            "\u001b[36mCell\u001b[39m\u001b[36m \u001b[39m\u001b[32mIn[2]\u001b[39m\u001b[32m, line 6\u001b[39m\n\u001b[32m      3\u001b[39m edges_file = \u001b[33m\"\u001b[39m\u001b[33mGraphTest_edges.txt\u001b[39m\u001b[33m\"\u001b[39m\n\u001b[32m      5\u001b[39m \u001b[38;5;66;03m# Load data into DataFrames\u001b[39;00m\n\u001b[32m----> \u001b[39m\u001b[32m6\u001b[39m df_nodes = \u001b[43mpd\u001b[49m\u001b[43m.\u001b[49m\u001b[43mread_csv\u001b[49m\u001b[43m(\u001b[49m\u001b[43mnodes_file\u001b[49m\u001b[43m,\u001b[49m\u001b[43m \u001b[49m\u001b[43msep\u001b[49m\u001b[43m=\u001b[49m\u001b[33;43m\"\u001b[39;49m\u001b[38;5;130;43;01m\\t\u001b[39;49;00m\u001b[33;43m\"\u001b[39;49m\u001b[43m)\u001b[49m  \u001b[38;5;66;03m# Reads the node table using tab as separator\u001b[39;00m\n\u001b[32m      7\u001b[39m df_edges = pd.read_csv(edges_file, sep=\u001b[33m\"\u001b[39m\u001b[38;5;130;01m\\t\u001b[39;00m\u001b[33m\"\u001b[39m)  \u001b[38;5;66;03m# Reads the edge table using tab as separator\u001b[39;00m\n\u001b[32m      9\u001b[39m \u001b[38;5;66;03m# Preview the node data\u001b[39;00m\n",
            "\u001b[36mFile \u001b[39m\u001b[32mc:\\Users\\minna\\AppData\\Local\\Programs\\Python\\Python312\\Lib\\site-packages\\pandas\\io\\parsers\\readers.py:1026\u001b[39m, in \u001b[36mread_csv\u001b[39m\u001b[34m(filepath_or_buffer, sep, delimiter, header, names, index_col, usecols, dtype, engine, converters, true_values, false_values, skipinitialspace, skiprows, skipfooter, nrows, na_values, keep_default_na, na_filter, verbose, skip_blank_lines, parse_dates, infer_datetime_format, keep_date_col, date_parser, date_format, dayfirst, cache_dates, iterator, chunksize, compression, thousands, decimal, lineterminator, quotechar, quoting, doublequote, escapechar, comment, encoding, encoding_errors, dialect, on_bad_lines, delim_whitespace, low_memory, memory_map, float_precision, storage_options, dtype_backend)\u001b[39m\n\u001b[32m   1013\u001b[39m kwds_defaults = _refine_defaults_read(\n\u001b[32m   1014\u001b[39m     dialect,\n\u001b[32m   1015\u001b[39m     delimiter,\n\u001b[32m   (...)\u001b[39m\u001b[32m   1022\u001b[39m     dtype_backend=dtype_backend,\n\u001b[32m   1023\u001b[39m )\n\u001b[32m   1024\u001b[39m kwds.update(kwds_defaults)\n\u001b[32m-> \u001b[39m\u001b[32m1026\u001b[39m \u001b[38;5;28;01mreturn\u001b[39;00m \u001b[43m_read\u001b[49m\u001b[43m(\u001b[49m\u001b[43mfilepath_or_buffer\u001b[49m\u001b[43m,\u001b[49m\u001b[43m \u001b[49m\u001b[43mkwds\u001b[49m\u001b[43m)\u001b[49m\n",
            "\u001b[36mFile \u001b[39m\u001b[32mc:\\Users\\minna\\AppData\\Local\\Programs\\Python\\Python312\\Lib\\site-packages\\pandas\\io\\parsers\\readers.py:620\u001b[39m, in \u001b[36m_read\u001b[39m\u001b[34m(filepath_or_buffer, kwds)\u001b[39m\n\u001b[32m    617\u001b[39m _validate_names(kwds.get(\u001b[33m\"\u001b[39m\u001b[33mnames\u001b[39m\u001b[33m\"\u001b[39m, \u001b[38;5;28;01mNone\u001b[39;00m))\n\u001b[32m    619\u001b[39m \u001b[38;5;66;03m# Create the parser.\u001b[39;00m\n\u001b[32m--> \u001b[39m\u001b[32m620\u001b[39m parser = \u001b[43mTextFileReader\u001b[49m\u001b[43m(\u001b[49m\u001b[43mfilepath_or_buffer\u001b[49m\u001b[43m,\u001b[49m\u001b[43m \u001b[49m\u001b[43m*\u001b[49m\u001b[43m*\u001b[49m\u001b[43mkwds\u001b[49m\u001b[43m)\u001b[49m\n\u001b[32m    622\u001b[39m \u001b[38;5;28;01mif\u001b[39;00m chunksize \u001b[38;5;129;01mor\u001b[39;00m iterator:\n\u001b[32m    623\u001b[39m     \u001b[38;5;28;01mreturn\u001b[39;00m parser\n",
            "\u001b[36mFile \u001b[39m\u001b[32mc:\\Users\\minna\\AppData\\Local\\Programs\\Python\\Python312\\Lib\\site-packages\\pandas\\io\\parsers\\readers.py:1620\u001b[39m, in \u001b[36mTextFileReader.__init__\u001b[39m\u001b[34m(self, f, engine, **kwds)\u001b[39m\n\u001b[32m   1617\u001b[39m     \u001b[38;5;28mself\u001b[39m.options[\u001b[33m\"\u001b[39m\u001b[33mhas_index_names\u001b[39m\u001b[33m\"\u001b[39m] = kwds[\u001b[33m\"\u001b[39m\u001b[33mhas_index_names\u001b[39m\u001b[33m\"\u001b[39m]\n\u001b[32m   1619\u001b[39m \u001b[38;5;28mself\u001b[39m.handles: IOHandles | \u001b[38;5;28;01mNone\u001b[39;00m = \u001b[38;5;28;01mNone\u001b[39;00m\n\u001b[32m-> \u001b[39m\u001b[32m1620\u001b[39m \u001b[38;5;28mself\u001b[39m._engine = \u001b[38;5;28;43mself\u001b[39;49m\u001b[43m.\u001b[49m\u001b[43m_make_engine\u001b[49m\u001b[43m(\u001b[49m\u001b[43mf\u001b[49m\u001b[43m,\u001b[49m\u001b[43m \u001b[49m\u001b[38;5;28;43mself\u001b[39;49m\u001b[43m.\u001b[49m\u001b[43mengine\u001b[49m\u001b[43m)\u001b[49m\n",
            "\u001b[36mFile \u001b[39m\u001b[32mc:\\Users\\minna\\AppData\\Local\\Programs\\Python\\Python312\\Lib\\site-packages\\pandas\\io\\parsers\\readers.py:1880\u001b[39m, in \u001b[36mTextFileReader._make_engine\u001b[39m\u001b[34m(self, f, engine)\u001b[39m\n\u001b[32m   1878\u001b[39m     \u001b[38;5;28;01mif\u001b[39;00m \u001b[33m\"\u001b[39m\u001b[33mb\u001b[39m\u001b[33m\"\u001b[39m \u001b[38;5;129;01mnot\u001b[39;00m \u001b[38;5;129;01min\u001b[39;00m mode:\n\u001b[32m   1879\u001b[39m         mode += \u001b[33m\"\u001b[39m\u001b[33mb\u001b[39m\u001b[33m\"\u001b[39m\n\u001b[32m-> \u001b[39m\u001b[32m1880\u001b[39m \u001b[38;5;28mself\u001b[39m.handles = \u001b[43mget_handle\u001b[49m\u001b[43m(\u001b[49m\n\u001b[32m   1881\u001b[39m \u001b[43m    \u001b[49m\u001b[43mf\u001b[49m\u001b[43m,\u001b[49m\n\u001b[32m   1882\u001b[39m \u001b[43m    \u001b[49m\u001b[43mmode\u001b[49m\u001b[43m,\u001b[49m\n\u001b[32m   1883\u001b[39m \u001b[43m    \u001b[49m\u001b[43mencoding\u001b[49m\u001b[43m=\u001b[49m\u001b[38;5;28;43mself\u001b[39;49m\u001b[43m.\u001b[49m\u001b[43moptions\u001b[49m\u001b[43m.\u001b[49m\u001b[43mget\u001b[49m\u001b[43m(\u001b[49m\u001b[33;43m\"\u001b[39;49m\u001b[33;43mencoding\u001b[39;49m\u001b[33;43m\"\u001b[39;49m\u001b[43m,\u001b[49m\u001b[43m \u001b[49m\u001b[38;5;28;43;01mNone\u001b[39;49;00m\u001b[43m)\u001b[49m\u001b[43m,\u001b[49m\n\u001b[32m   1884\u001b[39m \u001b[43m    \u001b[49m\u001b[43mcompression\u001b[49m\u001b[43m=\u001b[49m\u001b[38;5;28;43mself\u001b[39;49m\u001b[43m.\u001b[49m\u001b[43moptions\u001b[49m\u001b[43m.\u001b[49m\u001b[43mget\u001b[49m\u001b[43m(\u001b[49m\u001b[33;43m\"\u001b[39;49m\u001b[33;43mcompression\u001b[39;49m\u001b[33;43m\"\u001b[39;49m\u001b[43m,\u001b[49m\u001b[43m \u001b[49m\u001b[38;5;28;43;01mNone\u001b[39;49;00m\u001b[43m)\u001b[49m\u001b[43m,\u001b[49m\n\u001b[32m   1885\u001b[39m \u001b[43m    \u001b[49m\u001b[43mmemory_map\u001b[49m\u001b[43m=\u001b[49m\u001b[38;5;28;43mself\u001b[39;49m\u001b[43m.\u001b[49m\u001b[43moptions\u001b[49m\u001b[43m.\u001b[49m\u001b[43mget\u001b[49m\u001b[43m(\u001b[49m\u001b[33;43m\"\u001b[39;49m\u001b[33;43mmemory_map\u001b[39;49m\u001b[33;43m\"\u001b[39;49m\u001b[43m,\u001b[49m\u001b[43m \u001b[49m\u001b[38;5;28;43;01mFalse\u001b[39;49;00m\u001b[43m)\u001b[49m\u001b[43m,\u001b[49m\n\u001b[32m   1886\u001b[39m \u001b[43m    \u001b[49m\u001b[43mis_text\u001b[49m\u001b[43m=\u001b[49m\u001b[43mis_text\u001b[49m\u001b[43m,\u001b[49m\n\u001b[32m   1887\u001b[39m \u001b[43m    \u001b[49m\u001b[43merrors\u001b[49m\u001b[43m=\u001b[49m\u001b[38;5;28;43mself\u001b[39;49m\u001b[43m.\u001b[49m\u001b[43moptions\u001b[49m\u001b[43m.\u001b[49m\u001b[43mget\u001b[49m\u001b[43m(\u001b[49m\u001b[33;43m\"\u001b[39;49m\u001b[33;43mencoding_errors\u001b[39;49m\u001b[33;43m\"\u001b[39;49m\u001b[43m,\u001b[49m\u001b[43m \u001b[49m\u001b[33;43m\"\u001b[39;49m\u001b[33;43mstrict\u001b[39;49m\u001b[33;43m\"\u001b[39;49m\u001b[43m)\u001b[49m\u001b[43m,\u001b[49m\n\u001b[32m   1888\u001b[39m \u001b[43m    \u001b[49m\u001b[43mstorage_options\u001b[49m\u001b[43m=\u001b[49m\u001b[38;5;28;43mself\u001b[39;49m\u001b[43m.\u001b[49m\u001b[43moptions\u001b[49m\u001b[43m.\u001b[49m\u001b[43mget\u001b[49m\u001b[43m(\u001b[49m\u001b[33;43m\"\u001b[39;49m\u001b[33;43mstorage_options\u001b[39;49m\u001b[33;43m\"\u001b[39;49m\u001b[43m,\u001b[49m\u001b[43m \u001b[49m\u001b[38;5;28;43;01mNone\u001b[39;49;00m\u001b[43m)\u001b[49m\u001b[43m,\u001b[49m\n\u001b[32m   1889\u001b[39m \u001b[43m\u001b[49m\u001b[43m)\u001b[49m\n\u001b[32m   1890\u001b[39m \u001b[38;5;28;01massert\u001b[39;00m \u001b[38;5;28mself\u001b[39m.handles \u001b[38;5;129;01mis\u001b[39;00m \u001b[38;5;129;01mnot\u001b[39;00m \u001b[38;5;28;01mNone\u001b[39;00m\n\u001b[32m   1891\u001b[39m f = \u001b[38;5;28mself\u001b[39m.handles.handle\n",
            "\u001b[36mFile \u001b[39m\u001b[32mc:\\Users\\minna\\AppData\\Local\\Programs\\Python\\Python312\\Lib\\site-packages\\pandas\\io\\common.py:873\u001b[39m, in \u001b[36mget_handle\u001b[39m\u001b[34m(path_or_buf, mode, encoding, compression, memory_map, is_text, errors, storage_options)\u001b[39m\n\u001b[32m    868\u001b[39m \u001b[38;5;28;01melif\u001b[39;00m \u001b[38;5;28misinstance\u001b[39m(handle, \u001b[38;5;28mstr\u001b[39m):\n\u001b[32m    869\u001b[39m     \u001b[38;5;66;03m# Check whether the filename is to be opened in binary mode.\u001b[39;00m\n\u001b[32m    870\u001b[39m     \u001b[38;5;66;03m# Binary mode does not support 'encoding' and 'newline'.\u001b[39;00m\n\u001b[32m    871\u001b[39m     \u001b[38;5;28;01mif\u001b[39;00m ioargs.encoding \u001b[38;5;129;01mand\u001b[39;00m \u001b[33m\"\u001b[39m\u001b[33mb\u001b[39m\u001b[33m\"\u001b[39m \u001b[38;5;129;01mnot\u001b[39;00m \u001b[38;5;129;01min\u001b[39;00m ioargs.mode:\n\u001b[32m    872\u001b[39m         \u001b[38;5;66;03m# Encoding\u001b[39;00m\n\u001b[32m--> \u001b[39m\u001b[32m873\u001b[39m         handle = \u001b[38;5;28;43mopen\u001b[39;49m\u001b[43m(\u001b[49m\n\u001b[32m    874\u001b[39m \u001b[43m            \u001b[49m\u001b[43mhandle\u001b[49m\u001b[43m,\u001b[49m\n\u001b[32m    875\u001b[39m \u001b[43m            \u001b[49m\u001b[43mioargs\u001b[49m\u001b[43m.\u001b[49m\u001b[43mmode\u001b[49m\u001b[43m,\u001b[49m\n\u001b[32m    876\u001b[39m \u001b[43m            \u001b[49m\u001b[43mencoding\u001b[49m\u001b[43m=\u001b[49m\u001b[43mioargs\u001b[49m\u001b[43m.\u001b[49m\u001b[43mencoding\u001b[49m\u001b[43m,\u001b[49m\n\u001b[32m    877\u001b[39m \u001b[43m            \u001b[49m\u001b[43merrors\u001b[49m\u001b[43m=\u001b[49m\u001b[43merrors\u001b[49m\u001b[43m,\u001b[49m\n\u001b[32m    878\u001b[39m \u001b[43m            \u001b[49m\u001b[43mnewline\u001b[49m\u001b[43m=\u001b[49m\u001b[33;43m\"\u001b[39;49m\u001b[33;43m\"\u001b[39;49m\u001b[43m,\u001b[49m\n\u001b[32m    879\u001b[39m \u001b[43m        \u001b[49m\u001b[43m)\u001b[49m\n\u001b[32m    880\u001b[39m     \u001b[38;5;28;01melse\u001b[39;00m:\n\u001b[32m    881\u001b[39m         \u001b[38;5;66;03m# Binary mode\u001b[39;00m\n\u001b[32m    882\u001b[39m         handle = \u001b[38;5;28mopen\u001b[39m(handle, ioargs.mode)\n",
            "\u001b[31mFileNotFoundError\u001b[39m: [Errno 2] No such file or directory: 'GraphTest_nodes.txt'"
          ]
        }
      ],
      "source": [
        "# Paths to the input files\n",
        "nodes_file = \"GraphTest_nodes.txt\"\n",
        "edges_file = \"GraphTest_edges.txt\"\n",
        "\n",
        "# Load data into DataFrames\n",
        "df_nodes = pd.read_csv(nodes_file, sep=\"\\t\")  # Reads the node table using tab as separator\n",
        "df_edges = pd.read_csv(edges_file, sep=\"\\t\")  # Reads the edge table using tab as separator\n",
        "\n",
        "# Preview the node data\n",
        "print(\"Nodes:\")\n",
        "display(df_nodes.head())  # Shows the first few rows of the node DataFrame\n",
        "\n",
        "# Preview the edge data\n",
        "print(\"Edges:\")\n",
        "display(df_edges.head())  # Shows the first few rows of the edge DataFrame"
      ]
    },
    {
      "cell_type": "markdown",
      "metadata": {
        "id": "RynO1pcwRrUF"
      },
      "source": [
        "## Network Generation"
      ]
    },
    {
      "cell_type": "code",
      "execution_count": null,
      "metadata": {
        "id": "5txpdrTdQFll"
      },
      "outputs": [],
      "source": [
        "# Initialize as a MultiDiGraph to support multiple directed edges between the same pair of nodes\n",
        "# G = nx.MultiDiGraph()\n",
        "\n",
        "# Use MultiGraph() instead of MultiDiGraph() if directionality is not important.\n",
        "# This allows multiple undirected edges between the same node pairs, useful for modeling\n",
        "# symmetric or bidirectional interactions like Van der Waals forces.\n",
        "G = nx.MultiGraph()\n",
        "\n",
        "# Add all nodes with their attributes\n",
        "for _, row in df_nodes.iterrows():\n",
        "    node_id = row[\"NodeId\"]                      # Extract the node identifier\n",
        "    attributes = row.drop(\"NodeId\").to_dict()    # Convert the remaining columns to a dictionary of attributes\n",
        "    G.add_node(node_id, **attributes)            # Add the node and its attributes to the graph\n",
        "\n",
        "print(f\"Graph created with {G.number_of_nodes()} nodes.\")"
      ]
    },
    {
      "cell_type": "code",
      "execution_count": null,
      "metadata": {
        "id": "qVvGaAJLQLx-"
      },
      "outputs": [],
      "source": [
        "# Accessing the attributes of a specific node in the graph\n",
        "# Each node represents an abstract element with several associated properties.\n",
        "# These attributes may include:\n",
        "# - Position: the element's index or sequence number\n",
        "# - Type: classification or category of the element\n",
        "# - Degree: number of connections this node has in the graph\n",
        "# - Numerical values (e.g., factor_CA): possibly representing some measurement or score\n",
        "# - Coordinates (x, y, z): spatial or geometric positioning\n",
        "# - Metadata: such as source file name or model identifier\n",
        "\n",
        "G.nodes[\"A:1:_:V\"]"
      ]
    },
    {
      "cell_type": "code",
      "execution_count": null,
      "metadata": {
        "id": "xefy6rHvQQx8"
      },
      "outputs": [],
      "source": [
        "# Adds all columns as edge attributes, allowing multiple edges between the same pair of nodes\n",
        "for _, row in df_edges.iterrows():\n",
        "    source = row[\"NodeId1\"]                  # Source node identifier\n",
        "    target = row[\"NodeId2\"]                  # Target node identifier\n",
        "    attributes = row.drop([\"NodeId1\", \"NodeId2\"]).to_dict()  # All remaining columns become edge attributes\n",
        "\n",
        "    # Safe conversion of numeric values (e.g., distance, angle, etc.)\n",
        "    for key in attributes:\n",
        "        val = attributes[key]\n",
        "        if pd.isna(val) or val == \"nan\":     # Handle missing or non-numeric values\n",
        "            attributes[key] = None\n",
        "        else:\n",
        "            try:\n",
        "                attributes[key] = float(val)  # Convert strings to float when possible\n",
        "            except (ValueError, TypeError):\n",
        "                pass  # Leave as string if conversion fails\n",
        "\n",
        "    # Add the edge with its full set of attributes\n",
        "    # Since we are using MultiDiGraph, multiple edges between the same nodes are allowed and preserved\n",
        "    G.add_edge(source, target, **attributes)\n",
        "\n",
        "print(f\"Graph created with {G.number_of_edges()} edges (multiple interactions per node pair allowed).\")"
      ]
    },
    {
      "cell_type": "code",
      "execution_count": null,
      "metadata": {
        "id": "8aLq5IlpQUBU"
      },
      "outputs": [],
      "source": [
        "# Accessing the attributes of a specific edge in a MultiDiGraph\n",
        "# Since multiple edges are allowed between the same pair of nodes, we use a 3-element key:\n",
        "# (source_node, target_node, edge_index)\n",
        "# This retrieves the edge with index 0 between nodes \"A:1:_:V\" and \"A:81:_:L\"\n",
        "\n",
        "G.edges[('A:1:_:V', 'A:81:_:L', 0)]\n",
        "\n",
        "# The returned dictionary contains all the metadata associated with this specific interaction:\n",
        "# - Interaction: a label describing the type of interaction or connection\n",
        "# - Distance: a numeric value that may represent spatial proximity or intensity\n",
        "# - Angle: geometric property, if applicable\n",
        "# - Node1 / Node2: identifiers for specific components involved in the interaction\n",
        "# - Donor, Positive, Ct, Orientation: optional descriptors that may or may not be filled\n",
        "# - Model: model or version identifier, useful in some datasets"
      ]
    },
    {
      "cell_type": "markdown",
      "metadata": {
        "id": "--cSqIRfS8LA"
      },
      "source": [
        "### Summarization"
      ]
    },
    {
      "cell_type": "markdown",
      "metadata": {
        "id": "nfjaUyObS5g9"
      },
      "source": [
        "\n",
        "- How multiple connections between two nodes are represented;\n",
        "- How to navigate and inspect the metadata of each individual interaction;\n",
        "- The difference between a standard graph and a directed multiedge graph (MultiDiGraph).\n"
      ]
    },
    {
      "cell_type": "code",
      "execution_count": null,
      "metadata": {
        "id": "VEdrZmMAQWb-"
      },
      "outputs": [],
      "source": [
        "# Example: list all edges from node A:4:_:T to node A:7:_:E\n",
        "source = \"A:4:_:T\"\n",
        "target = \"A:7:_:E\"\n",
        "\n",
        "# Retrieves a dictionary containing all edges between the two nodes,\n",
        "# where each entry is indexed by a unique edge key (usually an integer starting from 0)\n",
        "multi_edges = G.get_edge_data(source, target)\n",
        "\n",
        "# Print all individual interactions (edges) between these two nodes\n",
        "for key, attrs in multi_edges.items():\n",
        "    print(f\"Edge {key}:\")  # Each key represents a unique edge ID between the same source and target\n",
        "    for attr, value in attrs.items():\n",
        "        print(f\"  {attr}: {value}\")  # Print each attribute of the edge\n",
        "    print()"
      ]
    },
    {
      "cell_type": "markdown",
      "metadata": {
        "id": "vNrdtSqPTGl7"
      },
      "source": [
        "## Export the Network"
      ]
    },
    {
      "cell_type": "code",
      "execution_count": null,
      "metadata": {
        "id": "BPO0iiinQbho"
      },
      "outputs": [],
      "source": [
        "def sanitize_attributes(G):\n",
        "    # Fix node attributes: replace None or NaN values with empty strings\n",
        "    for node, attrs in G.nodes(data=True):\n",
        "        for k, v in attrs.items():\n",
        "            if v is None or (isinstance(v, float) and pd.isna(v)):\n",
        "                G.nodes[node][k] = \"\"\n",
        "\n",
        "    # Fix edge attributes: replace None or NaN values with empty strings\n",
        "    for u, v, key, attrs in G.edges(keys=True, data=True):\n",
        "        for k, v_attr in attrs.items():\n",
        "            if v_attr is None or (isinstance(v_attr, float) and pd.isna(v_attr)):\n",
        "                G.edges[u, v, key][k] = \"\"\n",
        "\n",
        "# Apply attribute sanitization to make the graph exportable to GEXF format\n",
        "sanitize_attributes(G)\n",
        "\n",
        "# Export the graph to a GEXF file, which can be opened in Gephi or reloaded in Python\n",
        "nx.write_gexf(G, \"final_netwokr.gexf\")\n",
        "print(\"Export completed successfully.\")"
      ]
    },
    {
      "cell_type": "markdown",
      "metadata": {
        "id": "HDf-bbGbVIDr"
      },
      "source": [
        "## Data Visualization"
      ]
    },
    {
      "cell_type": "code",
      "execution_count": null,
      "metadata": {
        "id": "yQ9DzIaWQebb"
      },
      "outputs": [],
      "source": [
        "# Generate a layout for positioning the nodes using a force-directed algorithm\n",
        "# 'seed' ensures the layout is reproducible\n",
        "pos = nx.spring_layout(G, seed=42)\n",
        "\n",
        "# Set up the figure size\n",
        "plt.figure(figsize=(12, 10))\n",
        "\n",
        "# Draw the graph nodes with small size and light color\n",
        "nx.draw_networkx_nodes(G, pos, node_size=10, node_color='skyblue', alpha=0.7)\n",
        "\n",
        "# Draw the edges with some transparency\n",
        "nx.draw_networkx_edges(G, pos, alpha=0.3)\n",
        "\n",
        "# Set the plot title and remove axes\n",
        "plt.title(\"Graph\")\n",
        "plt.axis('off')\n",
        "\n",
        "# Display the final visualization\n",
        "plt.show()"
      ]
    }
  ],
  "metadata": {
    "colab": {
      "provenance": [],
      "toc_visible": true
    },
    "kernelspec": {
      "display_name": "Python 3",
      "name": "python3"
    },
    "language_info": {
      "codemirror_mode": {
        "name": "ipython",
        "version": 3
      },
      "file_extension": ".py",
      "mimetype": "text/x-python",
      "name": "python",
      "nbconvert_exporter": "python",
      "pygments_lexer": "ipython3",
      "version": "3.12.6"
    }
  },
  "nbformat": 4,
  "nbformat_minor": 0
}
